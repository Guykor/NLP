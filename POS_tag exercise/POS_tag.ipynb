{
 "cells": [
  {
   "cell_type": "markdown",
   "metadata": {},
   "source": [
    "### POS Tagging"
   ]
  },
  {
   "cell_type": "code",
   "execution_count": 322,
   "metadata": {},
   "outputs": [
    {
     "name": "stderr",
     "output_type": "stream",
     "text": [
      "[nltk_data] Downloading package brown to\n",
      "[nltk_data]     C:\\Users\\Guy\\AppData\\Roaming\\nltk_data...\n",
      "[nltk_data]   Package brown is already up-to-date!\n"
     ]
    }
   ],
   "source": [
    "import pandas as pd\n",
    "import nltk\n",
    "brown = nltk.download('brown')\n",
    "from nltk.corpus import brown\n",
    "import numpy as np"
   ]
  },
  {
   "cell_type": "markdown",
   "metadata": {},
   "source": [
    "### a - load and preprocess  Brown corpus\n",
    "Use the NLTK toolkit for importing the Brown corpus. This corpus contains text from 500\n",
    "sources, and the sources have been categorized by genre. Here we will use a portion of the corpus:\n",
    "the “news” category. Load the tagged sentences for this portion of the corpus. Then, divide the\n",
    "obtained corpus into training set and test set such that the test set is formed by the last 10% of\n",
    "the sentences."
   ]
  },
  {
   "cell_type": "code",
   "execution_count": 323,
   "metadata": {},
   "outputs": [],
   "source": [
    "sentences = list(brown.tagged_sents(categories='news'))"
   ]
  },
  {
   "cell_type": "markdown",
   "metadata": {},
   "source": [
    "Split train-test"
   ]
  },
  {
   "cell_type": "code",
   "execution_count": 324,
   "metadata": {},
   "outputs": [
    {
     "name": "stdout",
     "output_type": "stream",
     "text": [
      "train size: 4161 sentences\n",
      "test size: 462 sentences\n"
     ]
    }
   ],
   "source": [
    "n = len(sentences)\n",
    "test_size = round(n*0.1)\n",
    "train_size = n - test_size\n",
    "train_sent, test_sent = sentences[:train_size], sentences[-test_size:]\n",
    "print(f\"train size: {len(train_sent)} sentences\")\n",
    "print(f\"test size: {len(test_sent)} sentences\")"
   ]
  },
  {
   "cell_type": "markdown",
   "metadata": {},
   "source": [
    "A given word w may be annotated with a complex tag t, containing the symbols ’+’ and/or ’-’. When\n",
    "encountering such a complex tag t, consider only the suffix of t that comes before the first occurrence\n",
    "of ’+’ or ’-’ in t as the POS tag of w."
   ]
  },
  {
   "cell_type": "code",
   "execution_count": 325,
   "metadata": {},
   "outputs": [
    {
     "name": "stdout",
     "output_type": "stream",
     "text": [
      "train size: 90538 words; 13576 wordforms, 212 distinct tags\n",
      "test size: 10016 words; 2826 wordforms, 119 distinct tags\n"
     ]
    }
   ],
   "source": [
    "def get_word_tags(sentences_nltk):\n",
    "    return [(word, tag) for sent in sentences_nltk for (word,tag) in sent]\n",
    "    \n",
    "# todo: prefixes of tags!!!!!!!!!!!!!!!!!!!!!!!!!!!!!!!!!!!!!!!!!!!!!!!!!!!!!!!!!!!!!!!!!!!!!!!!$!%#^@^@#^&@^$\n",
    "train_words = get_word_tags(train_sent)\n",
    "train_words = pd.DataFrame(train_words, columns=['word','tag'])\n",
    "\n",
    "test_words = get_word_tags(test_sent)\n",
    "test_words = pd.DataFrame(test_words, columns=['word','tag'])\n",
    "\n",
    "print(f\"train size: {len(train_words)} words; {train_words.word.nunique()} wordforms, {train_words.tag.nunique()} distinct tags\")\n",
    "print(f\"test size: {len(test_words)} words; {test_words.word.nunique()} wordforms, {test_words.tag.nunique()} distinct tags\")"
   ]
  },
  {
   "cell_type": "code",
   "execution_count": 326,
   "metadata": {},
   "outputs": [
    {
     "name": "stdout",
     "output_type": "stream",
     "text": [
      "2008 words from test appears in train\n",
      "113 tags from test appears in train\n"
     ]
    }
   ],
   "source": [
    "print(f\"{np.isin(test_words.word.unique(), train_words.word.unique()).sum()} words from test appears in train\")\n",
    "print(f\"{np.isin(test_words.tag.unique(), train_words.tag.unique()).sum()} tags from test appears in train\")"
   ]
  },
  {
   "cell_type": "markdown",
   "metadata": {},
   "source": [
    "𝑎𝑐𝑐𝑢𝑟𝑎𝑐𝑦 = $\\frac{\\text{# test set word tokens with correct tag}}{\\text{# test set word tokens}}$"
   ]
  },
  {
   "cell_type": "code",
   "execution_count": 327,
   "metadata": {},
   "outputs": [
    {
     "name": "stdout",
     "output_type": "stream",
     "text": [
      "['AT' 'NP-TL' 'NN-TL' 'JJ-TL' 'VBD' 'NR' 'NN' 'IN' 'NP$' 'JJ' '``' \"''\"\n",
      " 'CS' 'DTI' 'NNS' '.' 'RBR' ',' 'WDT' 'HVD' 'VBZ' 'CC' 'IN-TL' 'BEDZ'\n",
      " 'VBN' 'NP' 'BEN' 'TO' 'VB' 'RB' 'DT' 'PPS' 'DOD' 'AP' 'BER' 'HV' 'DTS'\n",
      " 'VBG' 'PPO' 'QL' 'JJT' 'ABX' 'NN-HL' 'VBN-HL' 'WRB' 'CD' 'MD' 'BE' 'JJR'\n",
      " 'VBG-TL' 'BEZ' 'NN$-TL' 'HVZ' 'ABN' 'PN' 'PPSS' 'PP$' 'DO' 'NN$' 'NNS-HL'\n",
      " 'WPS' '*' 'EX' 'VB-HL' ':' '(' ')' 'NNS-TL' 'NPS' 'JJS' 'RP' '--' 'BED'\n",
      " 'OD' 'BEG' 'AT-HL' 'VBG-HL' 'AT-TL' 'PPL' 'DOZ' 'NP-HL' 'NR$' 'DOD*'\n",
      " 'BEDZ*' ',-HL' 'CC-TL' 'MD*' 'NNS$' 'PPSS+BER' \"'\" 'PPSS+BEM' 'CD-TL'\n",
      " 'RBT' '(-HL' ')-HL' 'MD-HL' 'VBZ-HL' 'IN-HL' 'JJ-HL' 'PPLS' 'CD-HL' 'WPO'\n",
      " 'JJS-TL' 'ABL' 'BER-HL' 'PPS+HVZ' 'VBD-HL' 'RP-HL' 'MD*-HL' 'AP-HL'\n",
      " 'CS-HL' 'DT$' 'HVN' 'FW-IN' 'FW-DT' 'VBN-TL' 'NR-TL' 'NNS$-TL' 'FW-NN'\n",
      " 'HVG' 'DTX' 'OD-TL' 'BEM' 'RB-HL' 'PPSS+MD' 'NPS-HL' 'NPS$' 'WP$'\n",
      " 'NN-TL-HL' 'CC-HL' 'PPS+BEZ' 'AP-TL' 'UH-TL' 'BEZ-HL' 'TO-HL' 'DO*'\n",
      " 'VBN-TL-HL' 'NNS-TL-HL' 'DT-HL' 'BE-HL' 'DOZ*' 'QLP' 'JJR-HL' 'PPSS+HVD'\n",
      " 'FW-IN+NN' 'PP$$' 'JJT-HL' 'NP-TL-HL' 'NPS-TL' 'MD+HV' 'NP$-TL' 'OD-HL'\n",
      " 'JJR-TL' 'VBD-TL' 'DT+BEZ' 'EX+BEZ' 'PPSS+HV' ':-HL' 'PPS+MD' 'UH'\n",
      " 'FW-CC' 'FW-NNS' 'BEDZ-HL' 'NN$-HL' '.-HL' 'HVD*' 'BEZ*' 'AP$' 'NP+BEZ'\n",
      " 'FW-AT-TL' 'VB-TL' 'RB-TL' 'MD-TL' 'PN+HVZ' 'FW-JJ-TL' 'FW-NN-TL'\n",
      " 'ABN-HL' 'PPS+BEZ-HL' 'NR-HL' 'HVD-HL' 'RB$' 'FW-AT-HL' 'DO-HL' 'PP$-TL'\n",
      " 'FW-IN-TL' 'WPS+BEZ' '*-HL' 'DTI-HL' 'PN-HL' 'CD$' 'BER*' 'NNS$-HL' 'PN$'\n",
      " 'BER-TL' 'TO-TL' 'FW-JJ' 'BED*' 'RB+BEZ' 'VB+PPO' 'PPSS-HL' 'HVZ*'\n",
      " 'FW-IN+NN-TL' 'FW-IN+AT-TL' 'NN-NC' 'JJ-NC' 'NR$-TL' 'FW-PP$-NC' 'FW-VB'\n",
      " 'FW-VB-NC' 'JJR-NC' 'NPS$-TL' 'QL-TL']\n"
     ]
    },
    {
     "data": {
      "text/plain": [
       "array(['AT', 'NP', 'NN', 'JJ', 'VBD', 'NR', 'IN', 'NP$', '``', \"''\", 'CS',\n",
       "       'DTI', 'NNS', '.', 'RBR', ',', 'WDT', 'HVD', 'VBZ', 'CC', 'BEDZ',\n",
       "       'VBN', 'BEN', 'TO', 'VB', 'RB', 'DT', 'PPS', 'DOD', 'AP', 'BER',\n",
       "       'HV', 'DTS', 'VBG', 'PPO', 'QL', 'JJT', 'ABX', 'WRB', 'CD', 'MD',\n",
       "       'BE', 'JJR', 'BEZ', 'NN$', 'HVZ', 'ABN', 'PN', 'PPSS', 'PP$', 'DO',\n",
       "       'WPS', '*', 'EX', ':', '(', ')', 'NPS', 'JJS', 'RP', '', 'BED',\n",
       "       'OD', 'BEG', 'PPL', 'DOZ', 'NR$', 'DOD*', 'BEDZ*', 'MD*', 'NNS$',\n",
       "       \"'\", 'RBT', 'PPLS', 'WPO', 'ABL', 'DT$', 'HVN', 'FW', 'HVG', 'DTX',\n",
       "       'BEM', 'NPS$', 'WP$', 'UH', 'DO*', 'DOZ*', 'QLP', 'PP$$', 'HVD*',\n",
       "       'BEZ*', 'AP$', 'RB$', 'CD$', 'BER*', 'PN$', 'BED*', 'HVZ*'],\n",
       "      dtype=object)"
      ]
     },
     "execution_count": 327,
     "metadata": {},
     "output_type": "execute_result"
    }
   ],
   "source": [
    "print(train_words.tag.unique())\n",
    "train_words.tag.apply(lambda x: x.split(\"+\")[0].split(\"-\")[0]).unique()\n",
    "# re.split(\"-|+\", train_words.tag.unique())"
   ]
  },
  {
   "cell_type": "code",
   "execution_count": 328,
   "metadata": {},
   "outputs": [],
   "source": [
    "def compute_error_rate(y, pred_y):\n",
    "    accuracy = (y == pred_y).mean()\n",
    "    return 1-accuracy"
   ]
  },
  {
   "cell_type": "markdown",
   "metadata": {},
   "source": [
    "### b - Baseline - most likely tag"
   ]
  },
  {
   "cell_type": "markdown",
   "metadata": {},
   "source": [
    "1. Using the training set, compute for each word the tag that maximizes p(tag|word), based\n",
    "on the maximum likelihood estimation. Assume that the most likely tag of all the unknown\n",
    "words is “NN”. (Unknown words are words that appear in the test set but not in the training\n",
    "set.)\n",
    "2. Using the test set, compute the error rate (i.e., 1−accuracy) for known words and for unknown\n",
    "words, as well as the total error rate.\n"
   ]
  },
  {
   "cell_type": "code",
   "execution_count": null,
   "metadata": {},
   "outputs": [],
   "source": [
    "# basline fit\n",
    "bag = train_words.copy()\n",
    "bag['word_tag_count'] = bag.reset_index().groupby(['word','tag'])['index'].transform('count')\n",
    "bag['word_count'] = bag.groupby('word')['tag'].transform('count')\n",
    "bag['MLE'] = bag.word_tag_count / bag.word_count\n",
    "bag = bag.drop_duplicates(['word','tag'])\n",
    "baseline_model = bag.groupby(['word'])[['tag','MLE']].max()['tag'].reset_index()\n",
    "print(f'\"trained\" on {bag.word.nunique()} unique words, and {bag.tag.nunique()} unique tags')"
   ]
  },
  {
   "cell_type": "code",
   "execution_count": null,
   "metadata": {},
   "outputs": [],
   "source": [
    "# predict!\n",
    "unknown_words_tag = 'NN' # no need cause all test is in train.\n",
    "result = pd.merge(test_words, baseline_model, on='word', how='left', suffixes=['_label', '_pred'])"
   ]
  },
  {
   "cell_type": "markdown",
   "metadata": {},
   "source": [
    "Evaluate baseline"
   ]
  },
  {
   "cell_type": "code",
   "execution_count": null,
   "metadata": {},
   "outputs": [],
   "source": [
    "only_known = result.dropna()\n",
    "only_unknown = result[result.tag_pred.isna()].fillna(unknown_words_tag)\n",
    "total = result.fillna(unknown_words_tag)\n",
    "print(\"Error rate for known words: \", compute_error_rate(only_known.tag_label, only_known.tag_pred))\n",
    "\n",
    "print(\"Error rate for unknown words: \", compute_error_rate(only_unknown.tag_label, only_unknown.tag_pred))\n",
    "\n",
    "print(\"Total Error rate: \", compute_error_rate(total.tag_label, total.tag_pred))"
   ]
  },
  {
   "cell_type": "markdown",
   "metadata": {},
   "source": [
    "### c - Implementation of a bigram HMM tagger"
   ]
  },
  {
   "cell_type": "markdown",
   "metadata": {},
   "source": [
    "### Training phase\n",
    "Compute the transition and emission probabilities of a bigram HMM tagger\n",
    "directly on the training set using maximum likelihood estimation."
   ]
  },
  {
   "cell_type": "code",
   "execution_count": null,
   "metadata": {},
   "outputs": [],
   "source": [
    "ASTERIX, START_TOKEN, STOP_TOKEN = \"*\", \"START\", \"STOP\"\n",
    "sentence_num = 0\n",
    "rows = []\n",
    "for sent in train_sent:\n",
    "    rows.append({'word':ASTERIX, 'tag':START_TOKEN, 'sent_id':sentence_num})\n",
    "    for word, tag in sent:\n",
    "        rows.append({'word':word, 'tag':tag, 'sent_id':sentence_num})\n",
    "    rows.append({'word':ASTERIX, 'tag':STOP_TOKEN, 'sent_id':sentence_num})\n",
    "    sentence_num += 1\n",
    "\n",
    "HMM_mle = pd.DataFrame(rows)"
   ]
  },
  {
   "cell_type": "code",
   "execution_count": null,
   "metadata": {},
   "outputs": [],
   "source": [
    "first_last = HMM_mle.groupby('sent_id').apply(lambda g: g.iloc[[1,-2]])[['word']]\n",
    "# HMM_mle.groupby('sent_id').count().iloc[:,0]-2"
   ]
  },
  {
   "cell_type": "code",
   "execution_count": null,
   "metadata": {},
   "outputs": [],
   "source": [
    "first_last"
   ]
  },
  {
   "cell_type": "code",
   "execution_count": null,
   "metadata": {},
   "outputs": [],
   "source": [
    "next_tag = HMM_mle.tag[1:]\n",
    "next_tag.index = next_tag.index-1\n",
    "HMM_mle['next_tag'] = next_tag"
   ]
  },
  {
   "cell_type": "code",
   "execution_count": null,
   "metadata": {},
   "outputs": [],
   "source": [
    "HMM_mle.tag.nunique(), HMM_mle.next_tag.nunique()"
   ]
  },
  {
   "cell_type": "code",
   "execution_count": null,
   "metadata": {},
   "outputs": [],
   "source": [
    "HMM_mle"
   ]
  },
  {
   "cell_type": "markdown",
   "metadata": {},
   "source": [
    "**Calculate Transitions probabilities (Bigram)**\n",
    "\n",
    "$\\hat{q}(y_{i+1}|y_i)= \\frac{\\#(y_{i+1},y_i)}{\\sum_{y}\\#(y_i,y)}= \\frac{(\\#y_i,y_{i+1})}{\\#y_{i}}$"
   ]
  },
  {
   "cell_type": "code",
   "execution_count": null,
   "metadata": {},
   "outputs": [],
   "source": [
    "joint_tag_frequency = HMM_mle.groupby(['tag','next_tag'])[['word']].count()\\\n",
    "                        .rename(columns={'word':'joint_frequency'}).reset_index()\n",
    "tag_frequency = HMM_mle.groupby('tag')[['word']].count().reset_index().rename(columns={'word':'tag_frequency'})\n",
    "tag_frequency.shape, joint_tag_frequency.shape"
   ]
  },
  {
   "cell_type": "code",
   "execution_count": null,
   "metadata": {},
   "outputs": [],
   "source": [
    "transitions = pd.merge(tag_frequency, joint_tag_frequency, on='tag', how='right')\n",
    "transitions['transition_prob'] = transitions.joint_frequency / transitions.tag_frequency\n",
    "transitions = transitions.drop(columns=['tag_frequency', 'joint_frequency'])\n",
    "transitions = transitions.drop_duplicates()\n",
    "print(f\"There are {transitions.tag.nunique()} distinct tags, and {transitions.next_tag.nunique()} next_tags (should equal and same as num of tags in emission table).\")\n",
    "transitions.set_index(['next_tag','tag'], inplace=True)\n",
    "print(\"Number of joint events - \", transitions.shape[0])\n",
    "\n",
    "transitions.plot.hist(bins=100)"
   ]
  },
  {
   "cell_type": "code",
   "execution_count": null,
   "metadata": {},
   "outputs": [],
   "source": [
    "# zero garbage transitions that were created in process -\n",
    "# * -> START (when start is in next_tag), and STOP->* (when STOP is in tag column)\n",
    "# its the same case\n",
    "transitions.loc[START_TOKEN] = 0\n",
    "transitions.loc[[START_TOKEN]]"
   ]
  },
  {
   "cell_type": "markdown",
   "metadata": {},
   "source": [
    "**Calculate Emission probabilities**\n",
    "\n",
    "$\\hat{e}(x_i|y_i)= \\frac{\\#(x_i,y_i)}{\\sum_{x}\\#(x,y_i)}= \\frac{\\#(x_i,y_i)}{\\#(y_i)}$"
   ]
  },
  {
   "cell_type": "code",
   "execution_count": null,
   "metadata": {},
   "outputs": [],
   "source": [
    "word_tag_freq = HMM_mle.reset_index().groupby(['word','tag'])[['index']].count().rename(columns={'index':'word_tag_frequency'}).reset_index()\n",
    "print(\"size of word-tag frequency table is \", word_tag_freq.shape, f'With {word_tag_freq.tag.nunique()} distinct tags')"
   ]
  },
  {
   "cell_type": "code",
   "execution_count": null,
   "metadata": {},
   "outputs": [],
   "source": [
    "emissions = pd.merge(tag_frequency, word_tag_freq, on='tag',how='right')\n",
    "print(\"Emission table size is\", emissions.shape)\n",
    "emissions['emission_prob'] = emissions.word_tag_frequency / emissions.tag_frequency\n",
    "emissions = emissions.drop(columns=['tag_frequency', 'word_tag_frequency']).drop_duplicates()\n",
    "emissions = emissions.set_index(['word', 'tag'])\n",
    "emissions.plot.hist(bins=100)"
   ]
  },
  {
   "cell_type": "code",
   "execution_count": null,
   "metadata": {},
   "outputs": [],
   "source": [
    "# check that STOP and START have correct emissions\n",
    "check = emissions.reset_index()\n",
    "check[check.tag.isin([START_TOKEN, STOP_TOKEN])]"
   ]
  },
  {
   "cell_type": "code",
   "execution_count": null,
   "metadata": {},
   "outputs": [],
   "source": [
    "check[check.word == ASTERIX]"
   ]
  },
  {
   "cell_type": "markdown",
   "metadata": {},
   "source": [
    "### Inference stage \n",
    "Implement the Viterbi algorithm corresponding to the bigram HMM model. (Choose an arbitrary tag for unknown words.)"
   ]
  },
  {
   "cell_type": "code",
   "execution_count": null,
   "metadata": {},
   "outputs": [],
   "source": [
    "# make sure that the tags are aligned (match by order)\n",
    "print(\"Tag column for emission and transimition are aligned?\", np.all(emissions.reset_index().tag.unique() == transitions.reset_index().tag.unique()))\n",
    "# note that tag and next tag are not aligned by definition"
   ]
  },
  {
   "cell_type": "code",
   "execution_count": null,
   "metadata": {},
   "outputs": [],
   "source": [
    "S = emissions.reset_index().tag.unique()\n"
   ]
  },
  {
   "cell_type": "code",
   "execution_count": null,
   "metadata": {},
   "outputs": [],
   "source": [
    "# making transition a table containing the cartesian product of tag (y_i-1) and next_tag (y_i)\n",
    "emissions = emissions.unstack().fillna(0).stack()\n",
    "transitions = transitions.unstack().fillna(0)\n",
    "transitions.columns = transitions.columns.droplevel()"
   ]
  },
  {
   "cell_type": "code",
   "execution_count": null,
   "metadata": {},
   "outputs": [],
   "source": [
    "known_words = set(emissions.reset_index().word.unique())\n"
   ]
  },
  {
   "cell_type": "code",
   "execution_count": null,
   "metadata": {},
   "outputs": [],
   "source": [
    "        pi = np.zeros((len(y_sentence) + 1, len(self.S)))\n",
    "        pi[0, self.__start_token_idx] = 1\n",
    "        result = []\n",
    "        for k, word in enumerate(y_sentence):\n",
    "            if word in self.__known_words:\n",
    "                # dot product between row vectors pi[k] and transition[next_tag]\n",
    "                next_tag_prob = (self.__q_prob * pi[k]).max(axis=1)\n",
    "                # dot product between two row vectors\n",
    "                next_tag_prob = next_tag_prob * self.__e_prob.loc[word].values[:, 0]\n",
    "                pi[k + 1] = next_tag_prob  # the next_tag probability row\n",
    "                result.append((word, self.S[next_tag_prob.argmax()]))\n",
    "            else:\n",
    "                pi[k + 1] = np.zeros(len(self.S))  # the next_tag probability row\n",
    "                pi[k + 1, self.__unknown_word_idx] = 1\n",
    "                result.append((word, np.nan))\n",
    "        return pd.DataFrame(result)"
   ]
  },
  {
   "cell_type": "code",
   "execution_count": null,
   "metadata": {},
   "outputs": [],
   "source": [
    "def parse_test_set(test_set):\n",
    "    sentences = []\n",
    "    labels = []\n",
    "    for sent in test_sent:\n",
    "        words = []\n",
    "        tags = []\n",
    "        for w, t in sent:\n",
    "            words.append(w)\n",
    "            tags.append(t)\n",
    "        sentences.append(words)\n",
    "        labels.append(tags)\n",
    "    return sentences, labels\n"
   ]
  },
  {
   "cell_type": "markdown",
   "metadata": {},
   "source": [
    "### Run the algorithm from c)ii) on the test set. Compute the error rates and compare to the results from b)ii)."
   ]
  },
  {
   "cell_type": "code",
   "execution_count": null,
   "metadata": {},
   "outputs": [],
   "source": [
    "import time\n",
    "test_sentences, test_labels = parse_test_set(test_sent)\n",
    "predictions = []\n",
    "labels = []\n",
    "start = time.time()\n",
    "for i, sentence in enumerate(test_sentences):\n",
    "    pred = viterby_inference(sentence)\n",
    "    # save as words for evaluation by words and their tags\n",
    "    sent_words = pd.DataFrame(pred)\n",
    "    sent_words['label'] = test_labels[i]\n",
    "    predictions.append(sent_words)\n",
    "print(\"Took \", (time.time()-start)/60, \" minutes.\")"
   ]
  },
  {
   "cell_type": "code",
   "execution_count": null,
   "metadata": {},
   "outputs": [],
   "source": [
    "evaluate = pd.concat(predictions)\n",
    "evaluate.columns = ['word', 'tag', 'label']"
   ]
  },
  {
   "cell_type": "code",
   "execution_count": null,
   "metadata": {},
   "outputs": [],
   "source": [
    "HMM_known = evaluate.dropna()\n",
    "HMM_only_unknown = evaluate[evaluate.tag.isna()].fillna(unknown_words_tag)\n",
    "HMM_total = evaluate.fillna(unknown_words_tag)\n",
    "print(\"Error rate for known words: \", compute_error_rate(HMM_known.label, HMM_known.tag))\n",
    "\n",
    "print(\"Error rate for unknown words: \", compute_error_rate(HMM_only_unknown.label, HMM_only_unknown.tag))\n",
    "\n",
    "print(\"Total Error rate: \", compute_error_rate(HMM_total.label, HMM_total.tag))"
   ]
  },
  {
   "cell_type": "markdown",
   "metadata": {},
   "source": [
    "### Add-1 Smoothing\n",
    "$\\hat{e}_\\delta(x_i|y_i) = \\frac{\\#(x_i,y_i)+\\delta}{\\#(y_i)+\\delta \\cdot |V|}$"
   ]
  },
  {
   "cell_type": "code",
   "execution_count": null,
   "metadata": {},
   "outputs": [],
   "source": [
    "laplace = 1\n",
    "smooth_emissions = pd.merge(tag_frequency, word_tag_freq, on='tag',how='right')\n",
    "smooth_emissions['emission_prob'] = (smooth_emissions.word_tag_frequency + laplace) / (smooth_emissions.tag_frequency + len(train_words.word.unique()))\n",
    "smooth_emissions = smooth_emissions.drop(columns=['tag_frequency', 'word_tag_frequency']).drop_duplicates().set_index(['word', 'tag'])"
   ]
  },
  {
   "cell_type": "code",
   "execution_count": 6,
   "metadata": {},
   "outputs": [],
   "source": [
    "MONTHS_CAPS = ['January', 'February', 'March', 'April', 'May', 'June', 'July', 'August',\n",
    "               'September', 'October', 'November', 'December']\n",
    "MONTHS_LOWER = [m.lower() for m in MONTHS_CAPS]\n",
    "\n",
    "PSEUDO_DICT = {'dollars_amount': ['\\$', '\\d-cent'],\n",
    "               'size_related': ['\\d+\\Wacre', '\\d+\\Wsize', '\\d+\\Wdegree', '\\d+\\Wyard',\n",
    "                                '\\d+\\Wounce', '\\d+\\Wfoot', '\\d+\\Wpiece',\n",
    "                                '\\d+\\Wunit', '\\d+\\Winch', '\\d+\\Wpound', '\\d+\\Wpiece'],\n",
    "               'monetary_amount': ['[0-9]+\\.[0-9]+', '[0-9]*(,[0-9\\,]*)', '\\d+%', '\\d/'],\n",
    "               'time_related': ['hour', 'minute', '\\d:\\d\\d', '\\d\\'s'],\n",
    "               'age_related': ['\\Wage', '\\Wold', 'year-old', '-year'],\n",
    "               'calender': ['day', '\\dth', 'month', '[0-9]+[-]*[st,nd]'] + MONTHS_CAPS +\n",
    "                           MONTHS_LOWER,\n",
    "               'two&four_digits': ['\\w*[1-9]{1}[0-9]{3}\\w*', '\\w*[1-9]{1}[0-9]{1}\\w*'],\n",
    "               'groups': ['[0-9]-[a-z]'],\n",
    "               'other_number': ['\\d'],\n",
    "               'synonym': ['[A-Z]\\.'],\n",
    "               'all_cap': ['^[A-Z]+$'],\n",
    "               'init_cap': ['^[A-Z][a-z]+'],\n",
    "               'low_case': ['^[a-z]+$']}\n",
    "\n",
    "def adapt_pseudo_words(df):\n",
    "    for category in PSEUDO_DICT.keys():\n",
    "        mask = df.word.str.contains(\"|\".join(PSEUDO_DICT[category]))\n",
    "        df[category] = mask.replace({True: category, False: np.nan})\n",
    "    df.insert(1, 'pseudo_words', np.nan)\n",
    "    return df.fillna(method='bfill', axis=1)[['word', 'pseudo_words']]"
   ]
  },
  {
   "cell_type": "code",
   "execution_count": null,
   "metadata": {},
   "outputs": [],
   "source": [
    "def parse_test_set(test_sent):\n",
    "    sentences = []\n",
    "    labels = []\n",
    "    for i, sent in enumerate(test_sent):\n",
    "        for w, t in sent:\n",
    "            sentences.append({'word': w, 'sent_id': i})\n",
    "            labels.append({'tag': t, 'sent_id': i})\n",
    "    return pd.DataFrame(sentences), pd.DataFrame(labels)\n",
    "\n",
    "test_sentences, test_labels = parse_test_set(test_sent)"
   ]
  },
  {
   "cell_type": "code",
   "execution_count": null,
   "metadata": {
    "scrolled": true
   },
   "outputs": [],
   "source": [
    "predictions = []\n",
    "start = time.time()\n",
    "print(\"HMM predicting....\")\n",
    "is_unknown_word = ~test_sentences.word.isin(emissions.reset_index().word.unique())\n",
    "adapted = adapt_pseudo_words(test_sentences.loc[is_unknown_word])\n",
    "test_sentences.loc[is_unknown_word, 'word'] = adapted\n",
    "\n",
    "for i, sentence_words in test_sentences.groupby('sent_id'):\n",
    "    pred = predictor.predict(sentence_words.word)\n",
    "    # save as words for evaluation by words and their tags\n",
    "    pred['label'] = test_labels.loc[test_labels.sent_id == i]\n",
    "    predictions.append(pred)"
   ]
  },
  {
   "cell_type": "markdown",
   "metadata": {},
   "source": [
    "### Pseudo-words\n",
    "i. Design a set of pseudo-words for **unknown words in the test set** and **low-frequency words in\n",
    "the training set**."
   ]
  },
  {
   "cell_type": "code",
   "execution_count": 329,
   "metadata": {
    "scrolled": true
   },
   "outputs": [],
   "source": [
    "unknown_words = test_words.word[~test_words.word.isin(train_words.word)].unique()"
   ]
  },
  {
   "cell_type": "code",
   "execution_count": 330,
   "metadata": {},
   "outputs": [],
   "source": [
    "word_freq = train_words.groupby('word').count()\n",
    "word_freq.columns = ['freq']"
   ]
  },
  {
   "cell_type": "code",
   "execution_count": 331,
   "metadata": {},
   "outputs": [
    {
     "name": "stdout",
     "output_type": "stream",
     "text": [
      "Threshold  1 below:  7398 . above:  6178\n",
      "Threshold  2 below:  9510 . above:  4066\n",
      "Threshold  3 below:  10537 . above:  3039\n",
      "Threshold  5 below:  11610 . above:  1966\n",
      "Threshold  20 below:  13101 . above:  475\n",
      "Threshold  50 below:  13432 . above:  144\n"
     ]
    }
   ],
   "source": [
    "for t in [1,2,3,5, 20, 50]:\n",
    "    print(\"Threshold \", t, \"below: \", (word_freq.freq <= t).sum(), \". above: \",(word_freq.freq > t).sum())"
   ]
  },
  {
   "cell_type": "code",
   "execution_count": null,
   "metadata": {},
   "outputs": [],
   "source": [
    "low_frequency_words = word_freq[word_freq.freq <= 5].reset_index().word\n",
    "low_frequency_words"
   ]
  },
  {
   "cell_type": "code",
   "execution_count": null,
   "metadata": {},
   "outputs": [],
   "source": [
    "dollars_amount = low_frequency_words[low_frequency_words.str.startswith(\"$\")]\n",
    "low_frequency_words = low_frequency_words[~low_frequency_words.str.startswith(\"$\")]\n",
    "dollars_amount.shape"
   ]
  },
  {
   "cell_type": "code",
   "execution_count": null,
   "metadata": {},
   "outputs": [],
   "source": [
    "size_related = ['\\Wacre', '\\Wsize', '\\Wdegree', '\\Wyard', '\\Wounce']\n",
    "size_words = low_frequency_words[low_frequency_words.str.contains(\"|\".join(size_related))]\n",
    "low_frequency_words = low_frequency_words[~low_frequency_words.str.contains(\"|\".join(size_related))]\n",
    "size_words.shape"
   ]
  },
  {
   "cell_type": "code",
   "execution_count": null,
   "metadata": {},
   "outputs": [],
   "source": [
    "time_related = ['hour', 'minute', 'day']\n",
    "time_words = low_frequency_words[low_frequency_words.str.contains(\"|\".join(time_related))]\n",
    "low_frequency_words = low_frequency_words[~low_frequency_words.str.contains(\"|\".join(time_related))]\n",
    "time_words.shape"
   ]
  },
  {
   "cell_type": "code",
   "execution_count": null,
   "metadata": {},
   "outputs": [],
   "source": [
    "four_digit_number = low_frequency_words[low_frequency_words.str.contains('[1-9]{1}[0-9]{3}')]\n",
    "# low_frequency_words = low_frequency_words[~low_frequency_words.str.contains('[1-9]{1}[0-9]{3}')]\n",
    "list(four_digit_number)"
   ]
  },
  {
   "cell_type": "code",
   "execution_count": null,
   "metadata": {},
   "outputs": [],
   "source": [
    "two_digit_number = low_frequency_words[low_frequency_words.str.contains('[1-9][0-9]')]\n",
    "# low_frequency_words = low_frequency_words[~low_frequency_words.str.contains('\\d\\d')]\n",
    "two_digit_number"
   ]
  },
  {
   "cell_type": "code",
   "execution_count": null,
   "metadata": {},
   "outputs": [],
   "source": [
    "age_related = ['\\Wage', '\\Wold', 'year-old', '-year']\n",
    "age_words = low_frequency_words[low_frequency_words.str.contains('|'.join(age_related))]\n",
    "low_frequency_words = low_frequency_words[~low_frequency_words.str.contains('|'.join(age_related))]\n",
    "age_words.shape"
   ]
  },
  {
   "cell_type": "code",
   "execution_count": null,
   "metadata": {},
   "outputs": [],
   "source": [
    "days_words = low_frequency_words[low_frequency_words.str.contains('\\dth')]\n",
    "low_frequency_words = low_frequency_words[~low_frequency_words.str.contains('\\dth')]\n",
    "days_words.shape"
   ]
  },
  {
   "cell_type": "code",
   "execution_count": null,
   "metadata": {},
   "outputs": [],
   "source": [
    "synonims = low_frequency_words[low_frequency_words.str.contains('[A-Z]\\.+')]\n",
    "low_frequency_words = low_frequency_words[~low_frequency_words.str.contains('[A-Z]\\.+')]\n",
    "synonims.shape"
   ]
  },
  {
   "cell_type": "code",
   "execution_count": null,
   "metadata": {},
   "outputs": [],
   "source": [
    "init_cap = low_frequency_words[low_frequency_words.apply(lambda x: x[0].isupper())]\n",
    "low_frequency_words = low_frequency_words[~low_frequency_words.apply(lambda x: x[0].isupper())]\n",
    "init_cap.shape"
   ]
  },
  {
   "cell_type": "code",
   "execution_count": null,
   "metadata": {},
   "outputs": [],
   "source": [
    "unclassified_numbers = low_frequency_words[low_frequency_words.str.contains('\\d')]\n",
    "low_frequency_words = low_frequency_words[~low_frequency_words.str.contains('\\d')]\n",
    "unclassified_numbers.shape"
   ]
  },
  {
   "cell_type": "code",
   "execution_count": null,
   "metadata": {},
   "outputs": [],
   "source": [
    "lower_case = low_frequency_words[low_frequency_words.str.islower()]\n",
    "low_frequency_words = low_frequency_words[~low_frequency_words.str.islower()]\n",
    "lower_case.shape"
   ]
  },
  {
   "cell_type": "code",
   "execution_count": null,
   "metadata": {},
   "outputs": [],
   "source": [
    "filtered[~filtered.str.contains(\"|\".join(pseudo_dict[category]))]"
   ]
  },
  {
   "cell_type": "code",
   "execution_count": null,
   "metadata": {},
   "outputs": [],
   "source": [
    "low_frequency_words"
   ]
  },
  {
   "cell_type": "code",
   "execution_count": null,
   "metadata": {
    "scrolled": true
   },
   "outputs": [],
   "source": [
    "def create_pseudo_words(words):\n",
    "    \"\"\"note that the order of categories effects output, because  after each \n",
    "    query we drop the output words from the remaining words\"\"\"\n",
    "    filtered = words[:]\n",
    "    data_frames=[]\n",
    "    pseudo_dict = {'dollars_amount': ['\\$', '\\d-cent'], \n",
    "                   'size_related': ['\\Wacre', '\\Wsize', '\\Wdegree', '\\Wyard', '\\Wounce', '\\Wfoot', '\\Wpiece', '\\Wunit', '\\Winch', '\\Wpound', '\\Wpiece'],\n",
    "                   'time_related' : ['hour', 'minute', 'day', '\\d:\\d\\d', 'month', '\\d\\'s', '\\dth'], \n",
    "                   'age_related' = ['\\Wage', '\\Wold', 'year-old', '-year']\n",
    "                   'monetary_percent' : ['[0-9]\\.', '[0-9]*(,[0-9,]*)', '%', '/'],\n",
    "                   'groups' : ['[0-9]-[a-z]'],\n",
    "                   'other_number' : ['\\d'],\n",
    "                   'synonim' : ['[A-Z]\\.+'],\n",
    "                   'init_cap' : ['[A-Z][a-z]'], \n",
    "                   'all_cap' : ['[A-Z]+'], \n",
    "                   'low_case' : ['[a-z]+']}\n",
    "    for category in pseudo_dict.keys():\n",
    "        category_words = filtered[filtered.str.contains(\"|\".join(pseudo_dict[category]))]\n",
    "        filtered = filtered[~filtered.str.contains(\"|\".join(pseudo_dict[category]))]\n",
    "        category_dt = pd.DataFrame(category_words, columns=['word'])\n",
    "        category_dt['tag'] = [category] * category_words.shape[0]\n",
    "        data_frames.append(category_dt)\n",
    "\n",
    "    return data_frames"
   ]
  },
  {
   "cell_type": "code",
   "execution_count": null,
   "metadata": {},
   "outputs": [],
   "source": [
    "Months = ['January', 'February','March','April','May','June','July','August','September','October','November','December']\n",
    "months = [m.lower() for m in Months]"
   ]
  },
  {
   "cell_type": "code",
   "execution_count": null,
   "metadata": {},
   "outputs": [],
   "source": [
    "def adapt_psuedo_words(words, frequency_threshold=5):\n",
    "    words_df = pd.DataFrame(words)\n",
    "    pseudo_dict = {'dollars_amount': ['\\$', '\\d-cent'], \n",
    "                    'size_related': ['\\d+\\Wacre', '\\d+\\Wsize', '\\d+\\Wdegree', '\\d+\\Wyard', '\\d+\\Wounce', '\\d+\\Wfoot', '\\d+\\Wpiece', \n",
    "                                     '\\d+\\Wunit', '\\d+\\Winch', '\\d+\\Wpound', '\\d+\\Wpiece'],\n",
    "                    'monetary_amount' : ['[0-9]+\\.[0-9]+', '[0-9]*(,[0-9\\,]*)', '\\d+%', '\\d/'],\n",
    "                    'time_related' : ['hour', 'minute', '\\d:\\d\\d', '\\d\\'s'],\n",
    "                    'age_related' : ['\\Wage', '\\Wold', 'year-old', '-year'],\n",
    "                    'calender' : ['day','\\dth','month', '[0-9]+[-]*[st,nd]'] + Months + months,\n",
    "                    'two&four_digits' : ['\\w*[1-9]{1}[0-9]{3}\\w*', '\\w*[1-9]{1}[0-9]{1}\\w*'],\n",
    "                    'groups' : ['[0-9]-[a-z]'],  \n",
    "                    'other_number' : ['\\d'], \n",
    "                    'synonim' : ['[A-Z]\\.'],\n",
    "                    'all_cap' : ['^[A-Z]+$'],\n",
    "                    'init_cap' : ['^[A-Z][a-z]+'],  \n",
    "                    'low_case' : ['^[a-z]+$']}\n",
    "    for category in pseudo_dict.keys():\n",
    "        mask = words_df.word.str.contains(\"|\".join(pseudo_dict[category]))\n",
    "        words_df[category] = mask.replace({True:category, False:np.nan})\n",
    "    \n",
    "    words_df.insert(1, 'psuedo_words', np.nan)\n",
    "    return words_df.fillna(method='bfill', axis=1)[['word','psuedo_words']]"
   ]
  },
  {
   "cell_type": "code",
   "execution_count": null,
   "metadata": {},
   "outputs": [],
   "source": [
    "freq_words = train_words.groupby('word').transform('count')\n",
    "freq_words.columns = ['freq']"
   ]
  },
  {
   "cell_type": "code",
   "execution_count": null,
   "metadata": {},
   "outputs": [],
   "source": [
    "adapted = adapt_psuedo_words(train_words.loc[freq_words.freq <= 5, 'word'])\n",
    "# w.loc[freq_words.freq <= 5, 'word'] = "
   ]
  },
  {
   "cell_type": "code",
   "execution_count": null,
   "metadata": {
    "scrolled": true
   },
   "outputs": [],
   "source": [
    "test_sentences, test_labels = parse_test_set(test_sent)\n"
   ]
  },
  {
   "cell_type": "code",
   "execution_count": null,
   "metadata": {
    "scrolled": true
   },
   "outputs": [],
   "source": [
    "rows = []\n",
    "for i, sent in enumerate(test_sentences):\n",
    "    for word in sent:\n",
    "        rows.append({'word':word, 'sent_id':i})\n",
    "result = pd.DataFrame(rows,dtype='int').set_index('sent_id')\n",
    "    \n",
    "result"
   ]
  },
  {
   "cell_type": "code",
   "execution_count": null,
   "metadata": {
    "scrolled": false
   },
   "outputs": [],
   "source": [
    "# for idx in result.index:\n",
    "#     result.iloc[idx]\n",
    "    \n",
    "result.groupby('sent_id')"
   ]
  },
  {
   "cell_type": "markdown",
   "metadata": {},
   "source": [
    "ii. Using the pseudo-words as well as maximum likelihood estimation (as in c)i)), run the Viterbi\n",
    "algorithm on the test set. Compute the error rates and compare to the results from b)ii),\n",
    "c)iii) and d)ii).\n"
   ]
  },
  {
   "cell_type": "code",
   "execution_count": null,
   "metadata": {},
   "outputs": [],
   "source": [
    "train_sent"
   ]
  },
  {
   "cell_type": "code",
   "execution_count": null,
   "metadata": {},
   "outputs": [],
   "source": [
    "np.where(S=='NN')[0][0]"
   ]
  },
  {
   "cell_type": "markdown",
   "metadata": {},
   "source": [
    "iii. Using the pseudo-words as well as Add-One smoothing (as in d)i)), run the Viterbi algorithm\n",
    "on the test set. Compute the error rates and compare to the results from b)ii), c)iii), d)ii)\n",
    "and e)ii). For the results obtained using both pseudo-words and Add-One smoothing, build a\n",
    "confusion matrix and investigate the most frequent errors. A confusion matrix is an |K| over\n",
    "|K| matrix, where the (i, j) entry corresponds to the number of tokens which have a true tag\n",
    "i and a predicted tag j."
   ]
  },
  {
   "cell_type": "code",
   "execution_count": null,
   "metadata": {},
   "outputs": [],
   "source": [
    "test_sentences[test_sentences.word.isin(PSEUDO_DICT.keys())]"
   ]
  },
  {
   "cell_type": "code",
   "execution_count": 244,
   "metadata": {},
   "outputs": [],
   "source": [
    "import seaborn as sns\n",
    "import matplotlib.pyplot as plt"
   ]
  },
  {
   "cell_type": "code",
   "execution_count": 455,
   "metadata": {},
   "outputs": [
    {
     "data": {
      "text/html": [
       "<div>\n",
       "<style scoped>\n",
       "    .dataframe tbody tr th:only-of-type {\n",
       "        vertical-align: middle;\n",
       "    }\n",
       "\n",
       "    .dataframe tbody tr th {\n",
       "        vertical-align: top;\n",
       "    }\n",
       "\n",
       "    .dataframe thead th {\n",
       "        text-align: right;\n",
       "    }\n",
       "</style>\n",
       "<table border=\"1\" class=\"dataframe\">\n",
       "  <thead>\n",
       "    <tr style=\"text-align: right;\">\n",
       "      <th></th>\n",
       "      <th>word</th>\n",
       "      <th>tag_pred</th>\n",
       "      <th>tag_label</th>\n",
       "    </tr>\n",
       "  </thead>\n",
       "  <tbody>\n",
       "    <tr>\n",
       "      <th>0</th>\n",
       "      <td>Last</td>\n",
       "      <td>AP</td>\n",
       "      <td>AP</td>\n",
       "    </tr>\n",
       "    <tr>\n",
       "      <th>1</th>\n",
       "      <td>week</td>\n",
       "      <td>NN</td>\n",
       "      <td>NN</td>\n",
       "    </tr>\n",
       "    <tr>\n",
       "      <th>2</th>\n",
       "      <td>Federal</td>\n",
       "      <td>JJ</td>\n",
       "      <td>JJ</td>\n",
       "    </tr>\n",
       "    <tr>\n",
       "      <th>3</th>\n",
       "      <td>District</td>\n",
       "      <td>NN</td>\n",
       "      <td>NN</td>\n",
       "    </tr>\n",
       "    <tr>\n",
       "      <th>4</th>\n",
       "      <td>Judge</td>\n",
       "      <td>NN</td>\n",
       "      <td>NN</td>\n",
       "    </tr>\n",
       "    <tr>\n",
       "      <th>...</th>\n",
       "      <td>...</td>\n",
       "      <td>...</td>\n",
       "      <td>...</td>\n",
       "    </tr>\n",
       "    <tr>\n",
       "      <th>10011</th>\n",
       "      <td>the</td>\n",
       "      <td>,</td>\n",
       "      <td>,</td>\n",
       "    </tr>\n",
       "    <tr>\n",
       "      <th>10012</th>\n",
       "      <td>total</td>\n",
       "      <td>VBN</td>\n",
       "      <td>VB</td>\n",
       "    </tr>\n",
       "    <tr>\n",
       "      <th>10013</th>\n",
       "      <td>segregation</td>\n",
       "      <td>''</td>\n",
       "      <td>''</td>\n",
       "    </tr>\n",
       "    <tr>\n",
       "      <th>10014</th>\n",
       "      <td>of</td>\n",
       "      <td>.</td>\n",
       "      <td>.</td>\n",
       "    </tr>\n",
       "    <tr>\n",
       "      <th>10015</th>\n",
       "      <td>all</td>\n",
       "      <td>.</td>\n",
       "      <td>.</td>\n",
       "    </tr>\n",
       "  </tbody>\n",
       "</table>\n",
       "<p>10016 rows × 3 columns</p>\n",
       "</div>"
      ],
      "text/plain": [
       "              word tag_pred tag_label\n",
       "0             Last       AP        AP\n",
       "1             week       NN        NN\n",
       "2          Federal       JJ        JJ\n",
       "3         District       NN        NN\n",
       "4            Judge       NN        NN\n",
       "...            ...      ...       ...\n",
       "10011          the        ,         ,\n",
       "10012        total      VBN        VB\n",
       "10013  segregation       ''        ''\n",
       "10014           of        .         .\n",
       "10015          all        .         .\n",
       "\n",
       "[10016 rows x 3 columns]"
      ]
     },
     "execution_count": 455,
     "metadata": {},
     "output_type": "execute_result"
    }
   ],
   "source": [
    "evalu = pd.read_csv(\"evaluation.csv\")\n",
    "evalu = evalu.drop(columns = ['Unnamed: 0'])\n",
    "\n",
    "evalu"
   ]
  },
  {
   "cell_type": "code",
   "execution_count": 260,
   "metadata": {},
   "outputs": [
    {
     "ename": "KeyError",
     "evalue": "'None of [None] are in the columns'",
     "output_type": "error",
     "traceback": [
      "\u001b[1;31m---------------------------------------------------------------------------\u001b[0m",
      "\u001b[1;31mKeyError\u001b[0m                                  Traceback (most recent call last)",
      "\u001b[1;32m<ipython-input-260-9324a613b3ea>\u001b[0m in \u001b[0;36m<module>\u001b[1;34m\u001b[0m\n\u001b[1;32m----> 1\u001b[1;33m \u001b[0mevalu\u001b[0m\u001b[1;33m.\u001b[0m\u001b[0mpivot\u001b[0m\u001b[1;33m(\u001b[0m\u001b[1;33m)\u001b[0m\u001b[1;33m\u001b[0m\u001b[1;33m\u001b[0m\u001b[0m\n\u001b[0m",
      "\u001b[1;32mC:\\ProgramData\\Anaconda3\\lib\\site-packages\\pandas\\core\\frame.py\u001b[0m in \u001b[0;36mpivot\u001b[1;34m(self, index, columns, values)\u001b[0m\n\u001b[0;32m   5921\u001b[0m         \u001b[1;32mfrom\u001b[0m \u001b[0mpandas\u001b[0m\u001b[1;33m.\u001b[0m\u001b[0mcore\u001b[0m\u001b[1;33m.\u001b[0m\u001b[0mreshape\u001b[0m\u001b[1;33m.\u001b[0m\u001b[0mpivot\u001b[0m \u001b[1;32mimport\u001b[0m \u001b[0mpivot\u001b[0m\u001b[1;33m\u001b[0m\u001b[1;33m\u001b[0m\u001b[0m\n\u001b[0;32m   5922\u001b[0m \u001b[1;33m\u001b[0m\u001b[0m\n\u001b[1;32m-> 5923\u001b[1;33m         \u001b[1;32mreturn\u001b[0m \u001b[0mpivot\u001b[0m\u001b[1;33m(\u001b[0m\u001b[0mself\u001b[0m\u001b[1;33m,\u001b[0m \u001b[0mindex\u001b[0m\u001b[1;33m=\u001b[0m\u001b[0mindex\u001b[0m\u001b[1;33m,\u001b[0m \u001b[0mcolumns\u001b[0m\u001b[1;33m=\u001b[0m\u001b[0mcolumns\u001b[0m\u001b[1;33m,\u001b[0m \u001b[0mvalues\u001b[0m\u001b[1;33m=\u001b[0m\u001b[0mvalues\u001b[0m\u001b[1;33m)\u001b[0m\u001b[1;33m\u001b[0m\u001b[1;33m\u001b[0m\u001b[0m\n\u001b[0m\u001b[0;32m   5924\u001b[0m \u001b[1;33m\u001b[0m\u001b[0m\n\u001b[0;32m   5925\u001b[0m     _shared_docs[\n",
      "\u001b[1;32mC:\\ProgramData\\Anaconda3\\lib\\site-packages\\pandas\\core\\reshape\\pivot.py\u001b[0m in \u001b[0;36mpivot\u001b[1;34m(data, index, columns, values)\u001b[0m\n\u001b[0;32m    433\u001b[0m         \u001b[0mcols\u001b[0m \u001b[1;33m=\u001b[0m \u001b[1;33m[\u001b[0m\u001b[0mcolumns\u001b[0m\u001b[1;33m]\u001b[0m \u001b[1;32mif\u001b[0m \u001b[0mindex\u001b[0m \u001b[1;32mis\u001b[0m \u001b[1;32mNone\u001b[0m \u001b[1;32melse\u001b[0m \u001b[1;33m[\u001b[0m\u001b[0mindex\u001b[0m\u001b[1;33m,\u001b[0m \u001b[0mcolumns\u001b[0m\u001b[1;33m]\u001b[0m\u001b[1;33m\u001b[0m\u001b[1;33m\u001b[0m\u001b[0m\n\u001b[0;32m    434\u001b[0m         \u001b[0mappend\u001b[0m \u001b[1;33m=\u001b[0m \u001b[0mindex\u001b[0m \u001b[1;32mis\u001b[0m \u001b[1;32mNone\u001b[0m\u001b[1;33m\u001b[0m\u001b[1;33m\u001b[0m\u001b[0m\n\u001b[1;32m--> 435\u001b[1;33m         \u001b[0mindexed\u001b[0m \u001b[1;33m=\u001b[0m \u001b[0mdata\u001b[0m\u001b[1;33m.\u001b[0m\u001b[0mset_index\u001b[0m\u001b[1;33m(\u001b[0m\u001b[0mcols\u001b[0m\u001b[1;33m,\u001b[0m \u001b[0mappend\u001b[0m\u001b[1;33m=\u001b[0m\u001b[0mappend\u001b[0m\u001b[1;33m)\u001b[0m\u001b[1;33m\u001b[0m\u001b[1;33m\u001b[0m\u001b[0m\n\u001b[0m\u001b[0;32m    436\u001b[0m     \u001b[1;32melse\u001b[0m\u001b[1;33m:\u001b[0m\u001b[1;33m\u001b[0m\u001b[1;33m\u001b[0m\u001b[0m\n\u001b[0;32m    437\u001b[0m         \u001b[1;32mif\u001b[0m \u001b[0mindex\u001b[0m \u001b[1;32mis\u001b[0m \u001b[1;32mNone\u001b[0m\u001b[1;33m:\u001b[0m\u001b[1;33m\u001b[0m\u001b[1;33m\u001b[0m\u001b[0m\n",
      "\u001b[1;32mC:\\ProgramData\\Anaconda3\\lib\\site-packages\\pandas\\core\\frame.py\u001b[0m in \u001b[0;36mset_index\u001b[1;34m(self, keys, drop, append, inplace, verify_integrity)\u001b[0m\n\u001b[0;32m   4301\u001b[0m \u001b[1;33m\u001b[0m\u001b[0m\n\u001b[0;32m   4302\u001b[0m         \u001b[1;32mif\u001b[0m \u001b[0mmissing\u001b[0m\u001b[1;33m:\u001b[0m\u001b[1;33m\u001b[0m\u001b[1;33m\u001b[0m\u001b[0m\n\u001b[1;32m-> 4303\u001b[1;33m             \u001b[1;32mraise\u001b[0m \u001b[0mKeyError\u001b[0m\u001b[1;33m(\u001b[0m\u001b[1;34mf\"None of {missing} are in the columns\"\u001b[0m\u001b[1;33m)\u001b[0m\u001b[1;33m\u001b[0m\u001b[1;33m\u001b[0m\u001b[0m\n\u001b[0m\u001b[0;32m   4304\u001b[0m \u001b[1;33m\u001b[0m\u001b[0m\n\u001b[0;32m   4305\u001b[0m         \u001b[1;32mif\u001b[0m \u001b[0minplace\u001b[0m\u001b[1;33m:\u001b[0m\u001b[1;33m\u001b[0m\u001b[1;33m\u001b[0m\u001b[0m\n",
      "\u001b[1;31mKeyError\u001b[0m: 'None of [None] are in the columns'"
     ]
    }
   ],
   "source": [
    "evalu.pivot()"
   ]
  },
  {
   "cell_type": "code",
   "execution_count": 456,
   "metadata": {
    "scrolled": false
   },
   "outputs": [
    {
     "data": {
      "text/plain": [
       "(263, 3)"
      ]
     },
     "execution_count": 456,
     "metadata": {},
     "output_type": "execute_result"
    }
   ],
   "source": [
    "confusion_matrix = pd.crosstab(evalu.tag_label, evalu.tag_pred, rownames=['Actual'], colnames=['Predicted'])\n",
    "confusion_matrix = confusion_matrix.stack()\n",
    "confusion_matrix = confusion_matrix[confusion_matrix != 0].sort_values(ascending=False).reset_index()\n",
    "confusion_matrix.columns = ['Actual', 'Predicted', 'Occurences']\n",
    "confusion_matrix.shape"
   ]
  },
  {
   "cell_type": "code",
   "execution_count": 468,
   "metadata": {},
   "outputs": [
    {
     "data": {
      "text/plain": [
       "<matplotlib.axes._subplots.AxesSubplot at 0x1db1ed30148>"
      ]
     },
     "execution_count": 468,
     "metadata": {},
     "output_type": "execute_result"
    },
    {
     "data": {
      "image/png": "[encoded data removed]",
      "text/plain": [
       "<Figure size 432x288 with 2 Axes>"
      ]
     },
     "metadata": {
      "needs_background": "light"
     },
     "output_type": "display_data"
    }
   ],
   "source": [
    "to_plot = confusion_matrix.head(50).set_index(['Actual','Predicted'])\n",
    "to_plot.columns = ['']\n",
    "to_plot = to_plot.unstack()\n",
    "sns.heatmap(to_plot)\n"
   ]
  },
  {
   "cell_type": "code",
   "execution_count": 453,
   "metadata": {},
   "outputs": [
    {
     "data": {
      "text/plain": [
       "Text(0.5, 1.0, 'Num Correct predictions per tag')"
      ]
     },
     "execution_count": 453,
     "metadata": {},
     "output_type": "execute_result"
    },
    {
     "data": {
      "image/png": "[encoded data removed]",
      "text/plain": [
       "<Figure size 1080x576 with 1 Axes>"
      ]
     },
     "metadata": {
      "needs_background": "light"
     },
     "output_type": "display_data"
    }
   ],
   "source": [
    "to_plot = confusion_matrix[confusion_matrix.Actual == confusion_matrix.Predicted]\n",
    "to_plot = to_plot.groupby('Actual')[['Occurences']].sum().rename(columns={'Occurences':\"Num Correct\"})\n",
    "to_plot = to_plot.reset_index()\n",
    "ax = to_plot.plot.bar(x='Actual', y='Num Correct', figsize=(15,8))\n",
    "plt.title(\"Num Correct predictions per tag\", fontsize=16)"
   ]
  },
  {
   "cell_type": "code",
   "execution_count": 452,
   "metadata": {
    "scrolled": false
   },
   "outputs": [
    {
     "data": {
      "text/plain": [
       "Text(0.5, 1.0, 'Num Errors per tag')"
      ]
     },
     "execution_count": 452,
     "metadata": {},
     "output_type": "execute_result"
    },
    {
     "data": {
      "image/png": "[encoded data removed]",
      "text/plain": [
       "<Figure size 1080x576 with 1 Axes>"
      ]
     },
     "metadata": {
      "needs_background": "light"
     },
     "output_type": "display_data"
    }
   ],
   "source": [
    "# top_errors = to_plot[to_plot['Num Errors'] > to_plot.mean()[0]].reset_index().Actual\n",
    "to_plot = confusion_matrix[confusion_matrix.Actual != confusion_matrix.Predicted]\n",
    "to_plot = to_plot.groupby('Actual')[['Occurences']].sum().rename(columns={'Occurences':\"Num Errors\"})\n",
    "to_plot = to_plot.reset_index()\n",
    "ax = to_plot.plot.bar(x='Actual', y='Num Errors', figsize=(15,8))\n",
    "plt.title(\"Num Errors per tag\", fontsize=16)"
   ]
  },
  {
   "cell_type": "code",
   "execution_count": null,
   "metadata": {},
   "outputs": [],
   "source": []
  },
  {
   "cell_type": "code",
   "execution_count": 268,
   "metadata": {},
   "outputs": [],
   "source": [
    "confusion_matrix.to_csv(\"Confusion_matrix.csv\")"
   ]
  },
  {
   "cell_type": "code",
   "execution_count": null,
   "metadata": {},
   "outputs": [],
   "source": [
    "joint_tag_frequency = hmm_mle.groupby(['tag', 'next_tag'])[['word']].count() \\\n",
    "    .rename(columns={'word': 'joint_frequency'}).reset_index()\n",
    "joint_tag_frequency\n",
    "# tag_frequency = hmm_mle.groupby('tag')[['word']].count().reset_index() \\\n",
    "#     .rename(columns={'word': 'tag_frequency'})\n",
    "\n",
    "# transitions = pd.merge(tag_frequency, joint_tag_frequency, on='tag', how='right')\n",
    "# transitions['transition_prob'] = transitions.joint_frequency / transitions.tag_frequency\n",
    "# transitions = transitions.drop(columns=['tag_frequency', 'joint_frequency'])\n",
    "# transitions = transitions.drop_duplicates().set_index(['next_tag', 'tag'])\n",
    "\n",
    "# # zero garbage transitions that were created in process -\n",
    "# # * -> START (when start is in next_tag), and STOP->* (when STOP is in tag column)\n",
    "# # its the same case\n",
    "# transitions.loc[START_TOKEN] = 0\n",
    "\n",
    "# self.__transitions = transitions\n",
    "\n",
    "# word_tag_freq = hmm_mle.reset_index().groupby(['word', 'tag'])[['index']].count() \\\n",
    "#     .rename(columns={'index': 'word_tag_frequency'}).reset_index()\n",
    "\n",
    "# self.__emissions = self.__create_emission_tbl(tag_frequency, word_tag_freq)"
   ]
  },
  {
   "cell_type": "code",
   "execution_count": 28,
   "metadata": {},
   "outputs": [],
   "source": [
    "from sentences_parser import *\n",
    "from models import HMM"
   ]
  },
  {
   "cell_type": "code",
   "execution_count": 47,
   "metadata": {},
   "outputs": [
    {
     "name": "stdout",
     "output_type": "stream",
     "text": [
      "Loaded sentences:\n",
      "train size: 4161 sentences\n",
      "test size: 462 sentences\n",
      "\n"
     ]
    }
   ],
   "source": [
    "train_sentences, test_sentences = load_sentences_data()\n",
    "# test_sentences, test_labels = parse_test_set(test_sentences)"
   ]
  },
  {
   "cell_type": "code",
   "execution_count": 157,
   "metadata": {},
   "outputs": [],
   "source": [
    "final = []\n",
    "for sent in test_sentences:\n",
    "    rows = []\n",
    "    for w,t in sent:\n",
    "        rows.append({'word':w,'tag':t})\n",
    "    final.append(pd.DataFrame(rows))\n",
    "final = pd.concat(final)"
   ]
  },
  {
   "cell_type": "code",
   "execution_count": 158,
   "metadata": {},
   "outputs": [
    {
     "data": {
      "text/plain": [
       "array(['AP', 'NN', 'JJ-TL', 'NN-TL', 'NP', 'VBD', 'AT', 'TO', 'VB', 'RB',\n",
       "       '``', 'VBN', \"''\", 'CC', '.', 'PP$', 'MD', 'IN', 'ABN', 'JJ', ',',\n",
       "       '--', 'NP-TL', 'QL', 'CD', 'NNS', 'HVD', 'PPSS', 'NP$', 'WRB',\n",
       "       'BEDZ', 'OD', 'PPO', '(', ')', 'PPS', 'BEZ', 'CS', 'VBG', 'WDT',\n",
       "       'RP', 'DT', 'BEN', ':', 'BED', 'VBZ', 'DTI', 'BER', 'HV', '*',\n",
       "       'IN-TL', 'NN-HL', 'IN-HL', 'NP-HL', 'NP$-TL', 'JJS', 'WPS', 'HVZ',\n",
       "       'NN$', 'CD-TL', 'NPS', 'RBR', 'PN', 'DO', 'DTS', 'BE', 'QLP',\n",
       "       'PPL', 'HVG', 'ABX', 'FW-NN-TL', 'FW-JJ-TL', 'VBN-TL', 'NNS-TL',\n",
       "       'JJT', 'EX', 'FW-AT', 'FW-NN', 'DOD', 'JJR', 'FW-*', 'FW-CD',\n",
       "       'FW-IN', 'BEG', 'VBG-TL', 'WQL', 'NN$-TL', 'VB-TL', 'AT-HL',\n",
       "       ':-HL', 'FW-WDT', 'AT-TL', 'CC-TL', \"'\", 'VBG-HL', 'DOD*', 'OD-TL',\n",
       "       'NR', 'FW-JJ', 'FW-IN+NN', 'JJ-HL', 'NNS-HL', '.-HL', 'HVN',\n",
       "       'PPS+BEZ', 'WP$', 'NNS$', 'JJR-HL', 'DTI-HL', ',-HL', 'DT+BEZ',\n",
       "       'DOZ*', 'BER*', 'WDT+BEZ', 'MD*', 'PPSS+BEM', 'DO*', 'NR-TL',\n",
       "       'PPLS'], dtype=object)"
      ]
     },
     "execution_count": 158,
     "metadata": {},
     "output_type": "execute_result"
    }
   ],
   "source": [
    "final.tag.unique()"
   ]
  },
  {
   "cell_type": "code",
   "execution_count": 162,
   "metadata": {},
   "outputs": [
    {
     "data": {
      "text/plain": [
       "['', '', '']"
      ]
     },
     "execution_count": 162,
     "metadata": {},
     "output_type": "execute_result"
    }
   ],
   "source": [
    "# final.tag.unique()\n",
    "final.tag = final.tag.apply(lambda x: x.rsplit(\"+\")[0])\n",
    "final.tag.apply(lambda x: x.rsplit(\"-\")[0]).unique()"
   ]
  },
  {
   "cell_type": "code",
   "execution_count": 32,
   "metadata": {},
   "outputs": [
    {
     "name": "stdout",
     "output_type": "stream",
     "text": [
      "HMM with Add-1 smoothing:\n",
      "HMM predicting....\n"
     ]
    },
    {
     "ename": "KeyboardInterrupt",
     "evalue": "",
     "output_type": "error",
     "traceback": [
      "\u001b[1;31m---------------------------------------------------------------------------\u001b[0m",
      "\u001b[1;31mKeyboardInterrupt\u001b[0m                         Traceback (most recent call last)",
      "\u001b[1;32m<ipython-input-32-658921b59088>\u001b[0m in \u001b[0;36m<module>\u001b[1;34m\u001b[0m\n\u001b[0;32m      2\u001b[0m \u001b[0mhmm_smooth\u001b[0m \u001b[1;33m=\u001b[0m \u001b[0mHMM\u001b[0m\u001b[1;33m(\u001b[0m\u001b[1;36m1\u001b[0m\u001b[1;33m)\u001b[0m\u001b[1;33m\u001b[0m\u001b[1;33m\u001b[0m\u001b[0m\n\u001b[0;32m      3\u001b[0m \u001b[0mhmm_smooth\u001b[0m\u001b[1;33m.\u001b[0m\u001b[0mfit\u001b[0m\u001b[1;33m(\u001b[0m\u001b[0mtrain_sentences\u001b[0m\u001b[1;33m)\u001b[0m\u001b[1;33m\u001b[0m\u001b[1;33m\u001b[0m\u001b[0m\n\u001b[1;32m----> 4\u001b[1;33m \u001b[0mhmm_smooth\u001b[0m\u001b[1;33m.\u001b[0m\u001b[0mevaluate\u001b[0m\u001b[1;33m(\u001b[0m\u001b[0mtest_sentences\u001b[0m\u001b[1;33m,\u001b[0m \u001b[0mtest_labels\u001b[0m\u001b[1;33m)\u001b[0m\u001b[1;33m\u001b[0m\u001b[1;33m\u001b[0m\u001b[0m\n\u001b[0m",
      "\u001b[1;32mC:\\Guy\\University\\third year\\NLP\\ex2\\models.py\u001b[0m in \u001b[0;36mevaluate\u001b[1;34m(self, test_sentences, test_labels)\u001b[0m\n\u001b[0;32m    115\u001b[0m             \u001b[0mtest_sentences\u001b[0m\u001b[1;33m.\u001b[0m\u001b[0mloc\u001b[0m\u001b[1;33m[\u001b[0m\u001b[0mis_unknown_word\u001b[0m\u001b[1;33m,\u001b[0m \u001b[1;34m'word'\u001b[0m\u001b[1;33m]\u001b[0m \u001b[1;33m=\u001b[0m \u001b[0madapted\u001b[0m\u001b[1;33m\u001b[0m\u001b[1;33m\u001b[0m\u001b[0m\n\u001b[0;32m    116\u001b[0m         \u001b[1;32mfor\u001b[0m \u001b[0mi\u001b[0m\u001b[1;33m,\u001b[0m \u001b[0msentence_words\u001b[0m \u001b[1;32min\u001b[0m \u001b[0mtest_sentences\u001b[0m\u001b[1;33m.\u001b[0m\u001b[0mgroupby\u001b[0m\u001b[1;33m(\u001b[0m\u001b[1;34m'sent_id'\u001b[0m\u001b[1;33m)\u001b[0m\u001b[1;33m:\u001b[0m\u001b[1;33m\u001b[0m\u001b[1;33m\u001b[0m\u001b[0m\n\u001b[1;32m--> 117\u001b[1;33m             \u001b[0mpred\u001b[0m \u001b[1;33m=\u001b[0m \u001b[0mself\u001b[0m\u001b[1;33m.\u001b[0m\u001b[0m__predictor\u001b[0m\u001b[1;33m.\u001b[0m\u001b[0mpredict\u001b[0m\u001b[1;33m(\u001b[0m\u001b[0msentence_words\u001b[0m\u001b[1;33m.\u001b[0m\u001b[0mword\u001b[0m\u001b[1;33m)\u001b[0m\u001b[1;33m\u001b[0m\u001b[1;33m\u001b[0m\u001b[0m\n\u001b[0m\u001b[0;32m    118\u001b[0m             \u001b[1;31m# save as words for evaluation by words and their tags\u001b[0m\u001b[1;33m\u001b[0m\u001b[1;33m\u001b[0m\u001b[1;33m\u001b[0m\u001b[0m\n\u001b[0;32m    119\u001b[0m             \u001b[0mpred\u001b[0m\u001b[1;33m[\u001b[0m\u001b[1;34m'label'\u001b[0m\u001b[1;33m]\u001b[0m \u001b[1;33m=\u001b[0m \u001b[0mtest_labels\u001b[0m\u001b[1;33m.\u001b[0m\u001b[0mloc\u001b[0m\u001b[1;33m[\u001b[0m\u001b[0mtest_labels\u001b[0m\u001b[1;33m.\u001b[0m\u001b[0msent_id\u001b[0m \u001b[1;33m==\u001b[0m \u001b[0mi\u001b[0m\u001b[1;33m,\u001b[0m \u001b[1;34m'tag'\u001b[0m\u001b[1;33m]\u001b[0m\u001b[1;33m.\u001b[0m\u001b[0mvalues\u001b[0m\u001b[1;33m\u001b[0m\u001b[1;33m\u001b[0m\u001b[0m\n",
      "\u001b[1;32mC:\\Guy\\University\\third year\\NLP\\ex2\\viterby_algo.py\u001b[0m in \u001b[0;36mpredict\u001b[1;34m(self, y_sentence)\u001b[0m\n\u001b[0;32m     29\u001b[0m             \u001b[1;32mif\u001b[0m \u001b[0mword\u001b[0m \u001b[1;32min\u001b[0m \u001b[0mself\u001b[0m\u001b[1;33m.\u001b[0m\u001b[0m__known_words\u001b[0m\u001b[1;33m:\u001b[0m\u001b[1;33m\u001b[0m\u001b[1;33m\u001b[0m\u001b[0m\n\u001b[0;32m     30\u001b[0m                 \u001b[1;31m# dot product between row vectors pi[k] and transition[next_tag]\u001b[0m\u001b[1;33m\u001b[0m\u001b[1;33m\u001b[0m\u001b[1;33m\u001b[0m\u001b[0m\n\u001b[1;32m---> 31\u001b[1;33m                 \u001b[0mnext_tag_prob\u001b[0m \u001b[1;33m=\u001b[0m \u001b[1;33m(\u001b[0m\u001b[0mself\u001b[0m\u001b[1;33m.\u001b[0m\u001b[0m__q_prob\u001b[0m \u001b[1;33m*\u001b[0m \u001b[0mpi\u001b[0m\u001b[1;33m[\u001b[0m\u001b[0mk\u001b[0m\u001b[1;33m]\u001b[0m\u001b[1;33m)\u001b[0m\u001b[1;33m.\u001b[0m\u001b[0mmax\u001b[0m\u001b[1;33m(\u001b[0m\u001b[0maxis\u001b[0m\u001b[1;33m=\u001b[0m\u001b[1;36m1\u001b[0m\u001b[1;33m)\u001b[0m\u001b[1;33m\u001b[0m\u001b[1;33m\u001b[0m\u001b[0m\n\u001b[0m\u001b[0;32m     32\u001b[0m                 \u001b[1;31m# dot product between two row vectors\u001b[0m\u001b[1;33m\u001b[0m\u001b[1;33m\u001b[0m\u001b[1;33m\u001b[0m\u001b[0m\n\u001b[0;32m     33\u001b[0m                 \u001b[0mnext_tag_prob\u001b[0m \u001b[1;33m=\u001b[0m \u001b[0mnext_tag_prob\u001b[0m \u001b[1;33m*\u001b[0m \u001b[0mself\u001b[0m\u001b[1;33m.\u001b[0m\u001b[0m__e_prob\u001b[0m\u001b[1;33m.\u001b[0m\u001b[0mloc\u001b[0m\u001b[1;33m[\u001b[0m\u001b[0mword\u001b[0m\u001b[1;33m]\u001b[0m\u001b[1;33m.\u001b[0m\u001b[0mvalues\u001b[0m\u001b[1;33m[\u001b[0m\u001b[1;33m:\u001b[0m\u001b[1;33m,\u001b[0m \u001b[1;36m0\u001b[0m\u001b[1;33m]\u001b[0m\u001b[1;33m\u001b[0m\u001b[1;33m\u001b[0m\u001b[0m\n",
      "\u001b[1;32mC:\\ProgramData\\Anaconda3\\lib\\site-packages\\numpy\\core\\_methods.py\u001b[0m in \u001b[0;36m_amax\u001b[1;34m(a, axis, out, keepdims, initial, where)\u001b[0m\n\u001b[0;32m     28\u001b[0m def _amax(a, axis=None, out=None, keepdims=False,\n\u001b[0;32m     29\u001b[0m           initial=_NoValue, where=True):\n\u001b[1;32m---> 30\u001b[1;33m     \u001b[1;32mreturn\u001b[0m \u001b[0mumr_maximum\u001b[0m\u001b[1;33m(\u001b[0m\u001b[0ma\u001b[0m\u001b[1;33m,\u001b[0m \u001b[0maxis\u001b[0m\u001b[1;33m,\u001b[0m \u001b[1;32mNone\u001b[0m\u001b[1;33m,\u001b[0m \u001b[0mout\u001b[0m\u001b[1;33m,\u001b[0m \u001b[0mkeepdims\u001b[0m\u001b[1;33m,\u001b[0m \u001b[0minitial\u001b[0m\u001b[1;33m,\u001b[0m \u001b[0mwhere\u001b[0m\u001b[1;33m)\u001b[0m\u001b[1;33m\u001b[0m\u001b[1;33m\u001b[0m\u001b[0m\n\u001b[0m\u001b[0;32m     31\u001b[0m \u001b[1;33m\u001b[0m\u001b[0m\n\u001b[0;32m     32\u001b[0m def _amin(a, axis=None, out=None, keepdims=False,\n",
      "\u001b[1;31mKeyboardInterrupt\u001b[0m: "
     ]
    }
   ],
   "source": [
    "print(\"HMM with Add-1 smoothing:\")\n",
    "hmm_smooth = HMM(1)\n",
    "hmm_smooth.fit(train_sentences)\n",
    "hmm_smooth.evaluate(test_sentences, test_labels)"
   ]
  },
  {
   "cell_type": "code",
   "execution_count": null,
   "metadata": {},
   "outputs": [],
   "source": [
    "print(\"HMM with Pseudo words:\")\n",
    "hmm_smooth = HMM()\n",
    "hmm_smooth.fit(train_sentences, pseudo_threshold=2)\n",
    "hmm_smooth.evaluate(test_sentences, test_labels)"
   ]
  },
  {
   "cell_type": "code",
   "execution_count": 166,
   "metadata": {},
   "outputs": [],
   "source": [
    "from pandas import DataFrame, IndexSlice\n",
    "from seaborn import light_palette\n",
    "\n",
    "# Initialize tuples of conditions.  Observations are the input\n",
    "observations = (  # Modify, add, remove with any key in emit_prob_df\n",
    "    \"Wearing Trenchcoat & Fedora\", \"Browsing Reddit\", \"Drinking Mountain Dew\",\n",
    "    \"Eating Doritos\", \"Eating Pizza\")\n",
    "hidden_states = (\"Depressed\", \"Confident\", \"Tired\", \"Hungry\",\n",
    "                 \"Thirsty\")  # The confounding factors\n",
    "\n",
    "# Probability of transition\n",
    "trans_prob_df = DataFrame(\n",
    "    data={  # From depressed to confident, vice-versa, static, etc.\n",
    "        \"Depressed\": (0.20, 0.25, 0.10, 0.20, 0.20),\n",
    "        \"Confident\": (0.15, 0.25, 0.10, 0.20, 0.25),\n",
    "        \"Tired\": (0.25, 0.10, 0.30, 0.10, 0.15),\n",
    "        \"Hungry\": (0.20, 0.20, 0.25, 0.30, 0.30),\n",
    "        \"Thirsty\": (0.20, 0.20, 0.25, 0.20, 0.10)\n",
    "    },  # All should vertically sum to 1\n",
    "    columns=(\"Depressed\", \"Confident\", \"Tired\", \"Hungry\", \"Thirsty\"),\n",
    "    index=hidden_states)\n",
    "\n",
    "# Probability of observation given the hidden state\n",
    "emit_prob_df = DataFrame(\n",
    "    data={  # Highest chance of trenchcoat & fedora is when confident\n",
    "        \"Eating Pizza\": (0.20, 0.10, 0.10, 0.35, 0.20),\n",
    "        \"Browsing Reddit\": (0.20, 0.10, 0.35, 0.10, 0.20),\n",
    "        \"Drinking Mountain Dew\": (0.30, 0.10, 0.30, 0.20, 0.30),\n",
    "        \"Eating Doritos\": (0.20, 0.10, 0.15, 0.15, 0.15),\n",
    "        \"Wearing Trenchcoat & Fedora\": (0.10, 0.60, 0.10, 0.20, 0.15),\n",
    "    },  # All should vertically sum to 1\n",
    "    columns=(\"Eating Pizza\", \"Browsing Reddit\", \"Drinking Mountain Dew\",\n",
    "             \"Eating Doritos\", \"Wearing Trenchcoat & Fedora\"),\n",
    "    index=hidden_states)\n",
    "\n",
    "# Initialize starting probabilities\n",
    "start_probs = DataFrame(\n",
    "    data={\"(0) {}\".format(observations[0]): (0.10, 0.40, 0.10, 0.20, 0.20)},\n",
    "    index=hidden_states)\n",
    "\n",
    "# Initialize dynammic programming matrix at probability 0\n",
    "viterbi_df = start_probs.multiply(emit_prob_df[observations[0]], axis=\"index\")\n",
    "\n",
    "# Start dynammic programming\n",
    "for i, observation in enumerate(observations[1:]):\n",
    "    max_trans_prob_df = trans_prob_df.multiply(  # Offset by 1\n",
    "        viterbi_df.iloc[:, i], axis=\"index\").max()\n",
    "    # Multiply entire trans_prob df by previous viterbi_df\n",
    "    # column and take vertical maximums\n",
    "    viterbi_df[\"({}) {}\".format(\n",
    "        i + 1,  # Then multiply the result by the observation emissions\n",
    "        observation)] = max_trans_prob_df * emit_prob_df.loc[:, observation]\n",
    "\n",
    "# Provide the entire matrix with highest values darkest\n",
    "viterbi_traceback_df = viterbi_df.style.background_gradient(\n",
    "    cmap=light_palette(\"green\", as_cmap=True))"
   ]
  },
  {
   "cell_type": "code",
   "execution_count": 171,
   "metadata": {},
   "outputs": [
    {
     "data": {
      "text/plain": [
       "['Hungry']"
      ]
     },
     "execution_count": 171,
     "metadata": {},
     "output_type": "execute_result"
    }
   ],
   "source": [
    "# At the last column, use the maximum value to begin traceback\n",
    "traceback_prob = [viterbi_df.iloc[:, -1].max()]\n",
    "dyn_prog_path = [viterbi_df.iloc[:, -1].idxmax()]  # And its index\n",
    "\n",
    "# viterbi_traceback_df.highlight_max(  # Highlight it\n",
    "#     color=\"red\", subset=IndexSlice[[viterbi_df.columns[-1]]])\n",
    "\n",
    "# # Start traceback\n",
    "# for i, observation in zip(range(len(observations) - 2, -1, -1), reversed(observations[1:])):\n",
    "#     # Isolate the previous location that gives the current probability\n",
    "#     traceback_loc = viterbi_df.loc[viterbi_df.iloc[:, i] * trans_prob_df.loc[:, dyn_prog_path[0]] *\n",
    "#         emit_prob_df.loc[dyn_prog_path[0], observation] == traceback_prob[\n",
    "#             0]].index[0]\n",
    "#     # Record the value and its state\n",
    "#     traceback_prob.insert(0,\n",
    "#                           viterbi_df.loc[traceback_loc, viterbi_df.columns[i]])\n",
    "#     dyn_prog_path.insert(0, traceback_loc)\n",
    "#     viterbi_traceback_df = viterbi_traceback_df.applymap(\n",
    "#         lambda x: \"background-color: red\",  # Color the path red\n",
    "#         subset=IndexSlice[[dyn_prog_path[0]], [viterbi_df.columns[i]]])\n",
    "\n",
    "# # Print dynammic programming matrix and traceback results\n",
    "# print(\"The observations:\", \", \".join(observations))\n",
    "# print(\"The most likely sequence of hidden states is:\")\n",
    "# print((viterbi_df.isin(traceback_prob)).idxmax())\n",
    "# print(\"The final probability:\", traceback_prob[-1])\n",
    "# viterbi_traceback_df\n"
   ]
  },
  {
   "cell_type": "code",
   "execution_count": null,
   "metadata": {},
   "outputs": [],
   "source": []
  }
 ],
 "metadata": {
  "kernelspec": {
   "display_name": "Python 3",
   "language": "python",
   "name": "python3"
  },
  "language_info": {
   "codemirror_mode": {
    "name": "ipython",
    "version": 3
   },
   "file_extension": ".py",
   "mimetype": "text/x-python",
   "name": "python",
   "nbconvert_exporter": "python",
   "pygments_lexer": "ipython3",
   "version": "3.7.7"
  }
 },
 "nbformat": 4,
 "nbformat_minor": 4
}
